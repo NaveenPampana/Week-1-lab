{
 "cells": [
  {
   "cell_type": "markdown",
   "id": "e1d4dfde",
   "metadata": {},
   "source": [
    "# numpy exercises\n",
    "\n",
    "This is a collection of exercises that have been collected in the numpy mailing list, on stack overflow\n",
    "and in the numpy documentation. The goal of this collection is to offer a quick reference for both old\n",
    "and new users but also to provide a set of exercises for those who teach.\n",
    "\n",
    "\n",
    "If you find an error or think you've a better way to solve some of them, feel\n",
    "free to open an issue at <https://github.com/rougier/numpy-100>.\n",
    "File automatically generated. See the documentation to update questions/answers/hints programmatically."
   ]
  },
  {
   "cell_type": "markdown",
   "id": "66235010",
   "metadata": {},
   "source": [
    "#### 1. Import the numpy package under the name `np` (★☆☆)"
   ]
  },
  {
   "cell_type": "code",
   "execution_count": 3,
   "id": "73d560ad",
   "metadata": {},
   "outputs": [],
   "source": [
    "import numpy as np\n"
   ]
  },
  {
   "cell_type": "markdown",
   "id": "62bd3c73",
   "metadata": {},
   "source": [
    "#### 2. Create a null vector of size 10 (★☆☆)"
   ]
  },
  {
   "cell_type": "code",
   "execution_count": 4,
   "id": "8cd1c85e",
   "metadata": {},
   "outputs": [
    {
     "data": {
      "text/plain": [
       "array([0., 0., 0., 0., 0., 0., 0., 0., 0., 0.])"
      ]
     },
     "execution_count": 4,
     "metadata": {},
     "output_type": "execute_result"
    }
   ],
   "source": [
    "np.zeros((10))"
   ]
  },
  {
   "cell_type": "markdown",
   "id": "78b20784",
   "metadata": {},
   "source": [
    "#### 3. Create a null vector of size 10 but the fifth value which is 1 (★☆☆)"
   ]
  },
  {
   "cell_type": "code",
   "execution_count": 5,
   "id": "1ada92ab",
   "metadata": {},
   "outputs": [
    {
     "data": {
      "text/plain": [
       "array([0, 0, 0, 0, 0, 1, 0, 0, 0, 0])"
      ]
     },
     "execution_count": 5,
     "metadata": {},
     "output_type": "execute_result"
    }
   ],
   "source": [
    "np.array([int(x==5) for x in range(10)])"
   ]
  },
  {
   "cell_type": "markdown",
   "id": "0e96441e",
   "metadata": {},
   "source": [
    "#### 4. Create a vector with values ranging from 10 to 49 (★☆☆)"
   ]
  },
  {
   "cell_type": "code",
   "execution_count": 6,
   "id": "a84a6921",
   "metadata": {},
   "outputs": [
    {
     "data": {
      "text/plain": [
       "array([10, 11, 12, 13, 14, 15, 16, 17, 18, 19, 20, 21, 22, 23, 24, 25, 26,\n",
       "       27, 28, 29, 30, 31, 32, 33, 34, 35, 36, 37, 38, 39, 40, 41, 42, 43,\n",
       "       44, 45, 46, 47, 48])"
      ]
     },
     "execution_count": 6,
     "metadata": {},
     "output_type": "execute_result"
    }
   ],
   "source": [
    "np.arange(10,49)"
   ]
  },
  {
   "cell_type": "markdown",
   "id": "4d2da875",
   "metadata": {},
   "source": [
    "#### 5. Create a 3x3 matrix with values ranging from 0 to 8 (★☆☆)"
   ]
  },
  {
   "cell_type": "markdown",
   "id": "9c024f7a",
   "metadata": {},
   "source": [
    "0 to 8 is not possible"
   ]
  },
  {
   "cell_type": "code",
   "execution_count": 7,
   "id": "22861d75",
   "metadata": {},
   "outputs": [],
   "source": [
    "a= np.arange(0,9).reshape(3,3)\n",
    "b=np.arange(0,18,2).reshape(3,3)"
   ]
  },
  {
   "cell_type": "code",
   "execution_count": 8,
   "id": "e1a04300",
   "metadata": {},
   "outputs": [
    {
     "data": {
      "text/plain": [
       "array([[0, 1, 2],\n",
       "       [3, 4, 5],\n",
       "       [6, 7, 8]])"
      ]
     },
     "execution_count": 8,
     "metadata": {},
     "output_type": "execute_result"
    }
   ],
   "source": [
    "a"
   ]
  },
  {
   "cell_type": "code",
   "execution_count": 9,
   "id": "d345730b",
   "metadata": {},
   "outputs": [
    {
     "data": {
      "text/plain": [
       "array([[ 0,  2,  4],\n",
       "       [ 6,  8, 10],\n",
       "       [12, 14, 16]])"
      ]
     },
     "execution_count": 9,
     "metadata": {},
     "output_type": "execute_result"
    }
   ],
   "source": [
    "b"
   ]
  },
  {
   "cell_type": "markdown",
   "id": "6aeb8b8b",
   "metadata": {},
   "source": [
    "#### 6. Find indices of non-zero elements from [1,2,0,0,4,0] (★☆☆)"
   ]
  },
  {
   "cell_type": "code",
   "execution_count": 10,
   "id": "ecf8fafe",
   "metadata": {},
   "outputs": [
    {
     "data": {
      "text/plain": [
       "(array([0, 1, 4], dtype=int64),)"
      ]
     },
     "execution_count": 10,
     "metadata": {},
     "output_type": "execute_result"
    }
   ],
   "source": [
    "np.nonzero([1,2,0,0,4,0])"
   ]
  },
  {
   "cell_type": "markdown",
   "id": "55cb377f",
   "metadata": {},
   "source": [
    "#### 7. Create a 3x3 identity matrix (★☆☆)"
   ]
  },
  {
   "cell_type": "code",
   "execution_count": 11,
   "id": "5b856d3c",
   "metadata": {},
   "outputs": [
    {
     "data": {
      "text/plain": [
       "array([[1., 0., 0.],\n",
       "       [0., 1., 0.],\n",
       "       [0., 0., 1.]])"
      ]
     },
     "execution_count": 11,
     "metadata": {},
     "output_type": "execute_result"
    }
   ],
   "source": [
    "np.eye(3,3)"
   ]
  },
  {
   "cell_type": "markdown",
   "id": "c99db6dd",
   "metadata": {},
   "source": [
    "#### 8. Create a 3x3x3 array with random values (★☆☆)"
   ]
  },
  {
   "cell_type": "code",
   "execution_count": 12,
   "id": "c7735f49",
   "metadata": {},
   "outputs": [
    {
     "data": {
      "text/plain": [
       "array([[[0.25230122, 0.65051918, 0.66221423],\n",
       "        [0.98807324, 0.62321118, 0.80764776],\n",
       "        [0.8530244 , 0.98420309, 0.76295687]],\n",
       "\n",
       "       [[0.91643328, 0.51948864, 0.22043253],\n",
       "        [0.4638886 , 0.78004143, 0.63196272],\n",
       "        [0.56692993, 0.17332274, 0.13730006]],\n",
       "\n",
       "       [[0.49407931, 0.98413584, 0.75143384],\n",
       "        [0.94823813, 0.41742891, 0.69733109],\n",
       "        [0.89509503, 0.33326567, 0.77555403]]])"
      ]
     },
     "execution_count": 12,
     "metadata": {},
     "output_type": "execute_result"
    }
   ],
   "source": [
    "np.random.random(((3,3,3)))"
   ]
  },
  {
   "cell_type": "markdown",
   "id": "3cd96556",
   "metadata": {},
   "source": [
    "#### 9. Create a 10x10 array with random values and find the minimum and maximum values (★☆☆)"
   ]
  },
  {
   "cell_type": "code",
   "execution_count": 13,
   "id": "3e7c43e0",
   "metadata": {},
   "outputs": [],
   "source": [
    "array=np.random.random((10,10))"
   ]
  },
  {
   "cell_type": "code",
   "execution_count": 14,
   "id": "c4d241c2",
   "metadata": {},
   "outputs": [
    {
     "data": {
      "text/plain": [
       "array([[0.13656857, 0.56918064, 0.07004042, 0.70424454, 0.14530948,\n",
       "        0.58201614, 0.87866031, 0.28809358, 0.1892598 , 0.34447324],\n",
       "       [0.02596821, 0.81515174, 0.72523302, 0.75780379, 0.97359002,\n",
       "        0.5901854 , 0.15879558, 0.40370318, 0.57980241, 0.91585291],\n",
       "       [0.28394058, 0.94506755, 0.38437536, 0.10615739, 0.40676517,\n",
       "        0.01160197, 0.16995804, 0.88415226, 0.59185948, 0.5826609 ],\n",
       "       [0.52968077, 0.38919447, 0.44794854, 0.07860441, 0.93984066,\n",
       "        0.33388357, 0.78585179, 0.21190341, 0.04417862, 0.90097763],\n",
       "       [0.41005715, 0.38497126, 0.02038776, 0.07129583, 0.09457437,\n",
       "        0.37442623, 0.47728715, 0.44430563, 0.75026731, 0.62640682],\n",
       "       [0.14369446, 0.64961623, 0.20487462, 0.00561905, 0.38202086,\n",
       "        0.59522424, 0.12102972, 0.77596105, 0.80148049, 0.33661962],\n",
       "       [0.42818152, 0.94599211, 0.59078645, 0.20020173, 0.29134303,\n",
       "        0.63507464, 0.75536434, 0.72122225, 0.04482011, 0.61382735],\n",
       "       [0.13077769, 0.76221235, 0.54276138, 0.7872841 , 0.36029315,\n",
       "        0.53237678, 0.10346367, 0.73593425, 0.47816382, 0.91120806],\n",
       "       [0.1156649 , 0.29899205, 0.92371794, 0.72272271, 0.16827556,\n",
       "        0.65149232, 0.80882528, 0.80761209, 0.19719164, 0.19057984],\n",
       "       [0.60726375, 0.46821192, 0.34927987, 0.94156891, 0.30354706,\n",
       "        0.8202648 , 0.39364981, 0.33322934, 0.87073879, 0.59846853]])"
      ]
     },
     "execution_count": 14,
     "metadata": {},
     "output_type": "execute_result"
    }
   ],
   "source": [
    "array"
   ]
  },
  {
   "cell_type": "code",
   "execution_count": 15,
   "id": "45585afa",
   "metadata": {},
   "outputs": [
    {
     "data": {
      "text/plain": [
       "0.005619047189345583"
      ]
     },
     "execution_count": 15,
     "metadata": {},
     "output_type": "execute_result"
    }
   ],
   "source": [
    "np.min(array)"
   ]
  },
  {
   "cell_type": "code",
   "execution_count": 16,
   "id": "60ac4f10",
   "metadata": {},
   "outputs": [
    {
     "data": {
      "text/plain": [
       "0.9735900165412418"
      ]
     },
     "execution_count": 16,
     "metadata": {},
     "output_type": "execute_result"
    }
   ],
   "source": [
    "np.max(array)"
   ]
  },
  {
   "cell_type": "markdown",
   "id": "0ae96234",
   "metadata": {},
   "source": [
    "#### 10. Create a random vector of size 30 and find the mean value (★☆☆)"
   ]
  },
  {
   "cell_type": "code",
   "execution_count": 17,
   "id": "878227f9",
   "metadata": {},
   "outputs": [],
   "source": [
    "a=np.arange(30)"
   ]
  },
  {
   "cell_type": "code",
   "execution_count": 18,
   "id": "6f2e7ab6",
   "metadata": {},
   "outputs": [
    {
     "data": {
      "text/plain": [
       "array([ 0,  1,  2,  3,  4,  5,  6,  7,  8,  9, 10, 11, 12, 13, 14, 15, 16,\n",
       "       17, 18, 19, 20, 21, 22, 23, 24, 25, 26, 27, 28, 29])"
      ]
     },
     "execution_count": 18,
     "metadata": {},
     "output_type": "execute_result"
    }
   ],
   "source": [
    "a\n"
   ]
  },
  {
   "cell_type": "code",
   "execution_count": 19,
   "id": "45177aed",
   "metadata": {},
   "outputs": [
    {
     "data": {
      "text/plain": [
       "14.5"
      ]
     },
     "execution_count": 19,
     "metadata": {},
     "output_type": "execute_result"
    }
   ],
   "source": [
    "np.mean(a)"
   ]
  },
  {
   "cell_type": "markdown",
   "id": "16854535",
   "metadata": {},
   "source": [
    "#### 11. Create a 5x5 matrix with values 1,2,3,4 just below the diagonal (★☆☆)"
   ]
  },
  {
   "cell_type": "code",
   "execution_count": 20,
   "id": "4261868a",
   "metadata": {},
   "outputs": [
    {
     "data": {
      "text/plain": [
       "array([[1, 0, 0, 0, 0],\n",
       "       [0, 2, 0, 0, 0],\n",
       "       [0, 0, 3, 0, 0],\n",
       "       [0, 0, 0, 4, 0],\n",
       "       [0, 0, 0, 0, 5]])"
      ]
     },
     "execution_count": 20,
     "metadata": {},
     "output_type": "execute_result"
    }
   ],
   "source": [
    "np.diag([1, 2, 3, 4, 5])"
   ]
  },
  {
   "cell_type": "markdown",
   "id": "f629b67e",
   "metadata": {},
   "source": [
    "#### 12. Normalize a 5x5 random matrix (★☆☆)\n"
   ]
  },
  {
   "cell_type": "code",
   "execution_count": 21,
   "id": "0cbf7207",
   "metadata": {},
   "outputs": [
    {
     "name": "stdout",
     "output_type": "stream",
     "text": [
      "Before normalize\n",
      "[[5.28305287e-01 6.49073661e-01 6.34260053e-01 6.94919574e-01\n",
      "  9.53749546e-01]\n",
      " [9.53808456e-01 4.49012823e-01 2.52211604e-02 9.18858257e-01\n",
      "  4.46557824e-01]\n",
      " [4.09205874e-02 2.82745767e-01 8.80010725e-01 8.24768060e-02\n",
      "  9.16992210e-01]\n",
      " [2.17807161e-01 3.87871726e-01 6.92934872e-01 3.49752945e-03\n",
      "  9.83211007e-01]\n",
      " [8.71142549e-01 2.23670217e-01 3.79551526e-04 3.23173024e-01\n",
      "  7.02822560e-01]]\n",
      "After normalize\n",
      "[[ 0.04122901  0.40286666  0.35850771  0.54015102  1.31521041]\n",
      " [ 1.31538682 -0.19621014 -1.46524288  1.21072938 -0.20356157]\n",
      " [-1.41823137 -0.69409237  1.09440149 -1.29379239  1.20514156]\n",
      " [-0.88854928 -0.37929551  0.53420788 -1.53029371  1.40343196]\n",
      " [ 1.06784598 -0.87099252 -1.53963041 -0.57303404  0.5638163 ]]\n"
     ]
    }
   ],
   "source": [
    "z=np.random.random((5,5))\n",
    "print(\"Before normalize\")\n",
    "print(z)\n",
    "d=(z - np.mean(z))/np.std(z)\n",
    "print(\"After normalize\")\n",
    "print(d)"
   ]
  },
  {
   "cell_type": "markdown",
   "id": "7d64c055",
   "metadata": {},
   "source": [
    "#### 13. How to find common values between two arrays? (★☆☆)"
   ]
  },
  {
   "cell_type": "code",
   "execution_count": 22,
   "id": "03a5995d",
   "metadata": {},
   "outputs": [
    {
     "name": "stdout",
     "output_type": "stream",
     "text": [
      "[ 0  1  2  3  4  5  6  7  8  9 10 11 12 13 14 15 16 17 18 19 20 21 22 23\n",
      " 24 25 26 27 28 29]\n",
      "[[ 0  2  4]\n",
      " [ 6  8 10]\n",
      " [12 14 16]]\n",
      "the comman values are:\n"
     ]
    },
    {
     "data": {
      "text/plain": [
       "array([ 0,  2,  4,  6,  8, 10, 12, 14, 16])"
      ]
     },
     "execution_count": 22,
     "metadata": {},
     "output_type": "execute_result"
    }
   ],
   "source": [
    "print(a)\n",
    "print(b)\n",
    "print(\"the comman values are:\")\n",
    "np.intersect1d(a,b) "
   ]
  },
  {
   "cell_type": "markdown",
   "id": "44c8773f",
   "metadata": {},
   "source": [
    "#### 14. Create a random vector of size 10 and sort it (★★☆)"
   ]
  },
  {
   "cell_type": "code",
   "execution_count": 23,
   "id": "a3c4a507",
   "metadata": {},
   "outputs": [
    {
     "name": "stdout",
     "output_type": "stream",
     "text": [
      "[0.47920584 0.27495788 0.17887024 0.13379544 0.74564681 0.35419932\n",
      " 0.21757967 0.15093242 0.13578658 0.06860308]\n",
      "That was normal vector\n",
      "[0.06860308 0.13379544 0.13578658 0.15093242 0.17887024 0.21757967\n",
      " 0.27495788 0.35419932 0.47920584 0.74564681]\n",
      "This is sorted vector\n"
     ]
    }
   ],
   "source": [
    "c=np.random.random(10)\n",
    "print(c)\n",
    "print(\"That was normal vector\")\n",
    "c.sort()\n",
    "print(c)\n",
    "print(\"This is sorted vector\")"
   ]
  },
  {
   "cell_type": "markdown",
   "id": "ce283f3a",
   "metadata": {},
   "source": [
    "\n",
    "#### 15. Create random vector of size 10 and replace the maximum value by 0 (★★☆)"
   ]
  },
  {
   "cell_type": "code",
   "execution_count": 24,
   "id": "d69d24cd",
   "metadata": {},
   "outputs": [
    {
     "name": "stdout",
     "output_type": "stream",
     "text": [
      "the random array is:\n",
      "[0.88665128 0.83038803 0.8612203  0.5511823  0.38390197 0.89164696\n",
      " 0.29898914 0.27210953 0.14021729 0.27230187]\n",
      "the max value is replaced by 0:\n",
      "[0.88665128 0.83038803 0.8612203  0.5511823  0.38390197 0.\n",
      " 0.29898914 0.27210953 0.14021729 0.27230187]\n"
     ]
    }
   ],
   "source": [
    "d=np.random.random(10)\n",
    "print('the random array is:')\n",
    "print(d)\n",
    "d[d.argmax()] = 0\n",
    "print(\"the max value is replaced by 0:\")\n",
    "print(d)"
   ]
  },
  {
   "cell_type": "code",
   "execution_count": 25,
   "id": "4616a217",
   "metadata": {},
   "outputs": [
    {
     "name": "stdout",
     "output_type": "stream",
     "text": [
      "the random array is:\n",
      "[0.62528536 0.78823918 0.99354243 0.30703782 0.97551123 0.59345367\n",
      " 0.49846451 0.56291355 0.23136822 0.68527848]\n",
      "the min value is replaced by 1:\n",
      "[0.62528536 0.78823918 0.99354243 0.30703782 0.97551123 0.59345367\n",
      " 0.49846451 0.56291355 1.         0.68527848]\n"
     ]
    }
   ],
   "source": [
    "d=np.random.random(10)\n",
    "print('the random array is:')\n",
    "print(d)\n",
    "d[d.argmin()] = 1\n",
    "print(\"the min value is replaced by 1:\")\n",
    "print(d)"
   ]
  },
  {
   "cell_type": "markdown",
   "id": "b6dafa6d",
   "metadata": {},
   "source": [
    "#### 16. Subtract the mean of each row of a matrix (★★☆)"
   ]
  },
  {
   "cell_type": "code",
   "execution_count": 26,
   "id": "9f51e555",
   "metadata": {},
   "outputs": [
    {
     "name": "stdout",
     "output_type": "stream",
     "text": [
      "Original matrix\n",
      "[[0.68238299 0.04658768 0.94561928 0.73241853]\n",
      " [0.66563974 0.9299594  0.37439228 0.67356556]\n",
      " [0.64811187 0.93644047 0.84860349 0.94367331]\n",
      " [0.00454342 0.90523572 0.70276998 0.46186188]]\n",
      "Mean of each row of the matrix\n",
      "[[0.60175212]\n",
      " [0.66088925]\n",
      " [0.84420729]\n",
      " [0.51860275]]\n",
      "Substraction between the original matrix and the mean\n",
      "[[ 0.08063087 -0.55516444  0.34386716  0.13066641]\n",
      " [ 0.00475049  0.26907015 -0.28649696  0.01267632]\n",
      " [-0.19609542  0.09223319  0.00439621  0.09946602]\n",
      " [-0.51405933  0.38663297  0.18416723 -0.05674087]]\n"
     ]
    }
   ],
   "source": [
    "F = np.random.random((4,4))\n",
    "print('Original matrix')\n",
    "print(F)\n",
    "print('Mean of each row of the matrix')\n",
    "x = F.mean(axis = 1, keepdims = True)\n",
    "print(x)\n",
    "print('Substraction between the original matrix and the mean')\n",
    "F_substract = F - x\n",
    "print(F_substract)"
   ]
  },
  {
   "cell_type": "markdown",
   "id": "d365b578",
   "metadata": {},
   "source": [
    "#### 17. How to get the n largest values of an array (★★★)"
   ]
  },
  {
   "cell_type": "code",
   "execution_count": 37,
   "id": "a810b86b",
   "metadata": {},
   "outputs": [
    {
     "name": "stdout",
     "output_type": "stream",
     "text": [
      "[28 78 80 36  2 11 77  1 85 99 94 30 89 70 40 26 48 34 96 79 63 20 61  8\n",
      " 83 65 68 91 41 64 55  7  9 87 25 42 88 67 57 84 73 56  6 12 37 16 53 45\n",
      " 13 24  4 29 32 98 59 50 72 49 33 90 76 95 82 39 93 81 43 38 51 44 31 86\n",
      " 69 71 15 17  3 19 54 74 97 21 23 66 47 22 62 10 14  0 35 52  5 75 60 18\n",
      " 92 27 58 46]\n"
     ]
    },
    {
     "data": {
      "text/plain": [
       "99"
      ]
     },
     "execution_count": 37,
     "metadata": {},
     "output_type": "execute_result"
    }
   ],
   "source": [
    "x = np.arange(100)\n",
    "np.random.shuffle(x)\n",
    "print(x)\n",
    "\n",
    "x[np.argsort(x)[-1]]"
   ]
  },
  {
   "cell_type": "markdown",
   "id": "bd9a9c3b",
   "metadata": {},
   "source": [
    "#### 18. Create a random 5*3 matrix and replace items that are larger than 4 by their squares ( Example:  6 --> 36) "
   ]
  },
  {
   "cell_type": "code",
   "execution_count": 28,
   "id": "ebb1f484",
   "metadata": {},
   "outputs": [
    {
     "name": "stdout",
     "output_type": "stream",
     "text": [
      "[[ 0  1  2]\n",
      " [ 3  4  5]\n",
      " [ 6  7  8]\n",
      " [ 9 10 11]\n",
      " [12 13 14]]\n",
      "replacing of items or squaring which are larger than 4\n"
     ]
    },
    {
     "ename": "NameError",
     "evalue": "name 'y' is not defined",
     "output_type": "error",
     "traceback": [
      "\u001b[1;31m---------------------------------------------------------------------------\u001b[0m",
      "\u001b[1;31mNameError\u001b[0m                                 Traceback (most recent call last)",
      "Input \u001b[1;32mIn [28]\u001b[0m, in \u001b[0;36m<cell line: 4>\u001b[1;34m()\u001b[0m\n\u001b[0;32m      2\u001b[0m \u001b[38;5;28mprint\u001b[39m(x)\n\u001b[0;32m      3\u001b[0m \u001b[38;5;28mprint\u001b[39m(\u001b[38;5;124m\"\u001b[39m\u001b[38;5;124mreplacing of items or squaring which are larger than 4\u001b[39m\u001b[38;5;124m\"\u001b[39m)\n\u001b[1;32m----> 4\u001b[0m y\u001b[38;5;241m=\u001b[39mnp\u001b[38;5;241m.\u001b[39mwhere(x\u001b[38;5;241m<\u001b[39m\u001b[38;5;241m=\u001b[39m\u001b[38;5;241m4\u001b[39m,\u001b[43my\u001b[49m,x\u001b[38;5;241m*\u001b[39m\u001b[38;5;241m*\u001b[39m\u001b[38;5;241m2\u001b[39m)\n\u001b[0;32m      5\u001b[0m y\n",
      "\u001b[1;31mNameError\u001b[0m: name 'y' is not defined"
     ]
    }
   ],
   "source": [
    "x= np.arange(0,15).reshape(5,3)\n",
    "print(x)\n",
    "print(\"replacing of items or squaring which are larger than 4\")\n",
    "y=np.where(x<=4,y,x**2)\n",
    "y"
   ]
  },
  {
   "cell_type": "code",
   "execution_count": null,
   "id": "e659e65c",
   "metadata": {},
   "outputs": [],
   "source": [
    "x= np.arange(0,15).reshape(5,3)\n",
    "print(x)\n",
    "print(\"replacing of items or squaring which are larger than 4\")\n",
    "y=np.where(x<=5,x,x**2)\n",
    "y"
   ]
  },
  {
   "cell_type": "code",
   "execution_count": null,
   "id": "cc30229d",
   "metadata": {},
   "outputs": [],
   "source": []
  }
 ],
 "metadata": {
  "kernelspec": {
   "display_name": "Python 3 (ipykernel)",
   "language": "python",
   "name": "python3"
  },
  "language_info": {
   "codemirror_mode": {
    "name": "ipython",
    "version": 3
   },
   "file_extension": ".py",
   "mimetype": "text/x-python",
   "name": "python",
   "nbconvert_exporter": "python",
   "pygments_lexer": "ipython3",
   "version": "3.9.12"
  }
 },
 "nbformat": 4,
 "nbformat_minor": 5
}
