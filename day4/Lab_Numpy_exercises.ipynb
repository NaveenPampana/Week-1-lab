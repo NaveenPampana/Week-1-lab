{
 "cells": [
  {
   "cell_type": "markdown",
   "id": "e1d4dfde",
   "metadata": {},
   "source": [
    "# numpy exercises\n",
    "\n",
    "This is a collection of exercises that have been collected in the numpy mailing list, on stack overflow\n",
    "and in the numpy documentation. The goal of this collection is to offer a quick reference for both old\n",
    "and new users but also to provide a set of exercises for those who teach.\n",
    "\n",
    "\n",
    "If you find an error or think you've a better way to solve some of them, feel\n",
    "free to open an issue at <https://github.com/rougier/numpy-100>.\n",
    "File automatically generated. See the documentation to update questions/answers/hints programmatically."
   ]
  },
  {
   "cell_type": "markdown",
   "id": "66235010",
   "metadata": {},
   "source": [
    "#### 1. Import the numpy package under the name `np` (★☆☆)"
   ]
  },
  {
   "cell_type": "code",
   "execution_count": 3,
   "id": "73d560ad",
   "metadata": {},
   "outputs": [],
   "source": [
    "import numpy as np\n"
   ]
  },
  {
   "cell_type": "markdown",
   "id": "62bd3c73",
   "metadata": {},
   "source": [
    "#### 2. Create a null vector of size 10 (★☆☆)"
   ]
  },
  {
   "cell_type": "code",
   "execution_count": 4,
   "id": "8cd1c85e",
   "metadata": {},
   "outputs": [
    {
     "data": {
      "text/plain": [
       "array([0., 0., 0., 0., 0., 0., 0., 0., 0., 0.])"
      ]
     },
     "execution_count": 4,
     "metadata": {},
     "output_type": "execute_result"
    }
   ],
   "source": [
    "np.zeros((10))"
   ]
  },
  {
   "cell_type": "markdown",
   "id": "78b20784",
   "metadata": {},
   "source": [
    "#### 3. Create a null vector of size 10 but the fifth value which is 1 (★☆☆)"
   ]
  },
  {
   "cell_type": "code",
   "execution_count": 5,
   "id": "1ada92ab",
   "metadata": {},
   "outputs": [
    {
     "data": {
      "text/plain": [
       "array([0, 0, 0, 0, 0, 1, 0, 0, 0, 0])"
      ]
     },
     "execution_count": 5,
     "metadata": {},
     "output_type": "execute_result"
    }
   ],
   "source": [
    "np.array([int(x==5) for x in range(10)])"
   ]
  },
  {
   "cell_type": "markdown",
   "id": "0e96441e",
   "metadata": {},
   "source": [
    "#### 4. Create a vector with values ranging from 10 to 49 (★☆☆)"
   ]
  },
  {
   "cell_type": "code",
   "execution_count": 6,
   "id": "a84a6921",
   "metadata": {},
   "outputs": [
    {
     "data": {
      "text/plain": [
       "array([10, 11, 12, 13, 14, 15, 16, 17, 18, 19, 20, 21, 22, 23, 24, 25, 26,\n",
       "       27, 28, 29, 30, 31, 32, 33, 34, 35, 36, 37, 38, 39, 40, 41, 42, 43,\n",
       "       44, 45, 46, 47, 48])"
      ]
     },
     "execution_count": 6,
     "metadata": {},
     "output_type": "execute_result"
    }
   ],
   "source": [
    "np.arange(10,49)"
   ]
  },
  {
   "cell_type": "markdown",
   "id": "4d2da875",
   "metadata": {},
   "source": [
    "#### 5. Create a 3x3 matrix with values ranging from 0 to 8 (★☆☆)"
   ]
  },
  {
   "cell_type": "markdown",
   "id": "9c024f7a",
   "metadata": {},
   "source": [
    "0 to 8 is not possible"
   ]
  },
  {
   "cell_type": "code",
   "execution_count": 7,
   "id": "22861d75",
   "metadata": {},
   "outputs": [],
   "source": [
    "a= np.arange(0,9).reshape(3,3)\n",
    "b=np.arange(0,18,2).reshape(3,3)"
   ]
  },
  {
   "cell_type": "code",
   "execution_count": 8,
   "id": "e1a04300",
   "metadata": {},
   "outputs": [
    {
     "data": {
      "text/plain": [
       "array([[0, 1, 2],\n",
       "       [3, 4, 5],\n",
       "       [6, 7, 8]])"
      ]
     },
     "execution_count": 8,
     "metadata": {},
     "output_type": "execute_result"
    }
   ],
   "source": [
    "a"
   ]
  },
  {
   "cell_type": "code",
   "execution_count": 9,
   "id": "d345730b",
   "metadata": {},
   "outputs": [
    {
     "data": {
      "text/plain": [
       "array([[ 0,  2,  4],\n",
       "       [ 6,  8, 10],\n",
       "       [12, 14, 16]])"
      ]
     },
     "execution_count": 9,
     "metadata": {},
     "output_type": "execute_result"
    }
   ],
   "source": [
    "b"
   ]
  },
  {
   "cell_type": "markdown",
   "id": "6aeb8b8b",
   "metadata": {},
   "source": [
    "#### 6. Find indices of non-zero elements from [1,2,0,0,4,0] (★☆☆)"
   ]
  },
  {
   "cell_type": "code",
   "execution_count": 10,
   "id": "ecf8fafe",
   "metadata": {},
   "outputs": [
    {
     "data": {
      "text/plain": [
       "(array([0, 1, 4], dtype=int64),)"
      ]
     },
     "execution_count": 10,
     "metadata": {},
     "output_type": "execute_result"
    }
   ],
   "source": [
    "np.nonzero([1,2,0,0,4,0])"
   ]
  },
  {
   "cell_type": "markdown",
   "id": "55cb377f",
   "metadata": {},
   "source": [
    "#### 7. Create a 3x3 identity matrix (★☆☆)"
   ]
  },
  {
   "cell_type": "code",
   "execution_count": 11,
   "id": "5b856d3c",
   "metadata": {},
   "outputs": [
    {
     "data": {
      "text/plain": [
       "array([[1., 0., 0.],\n",
       "       [0., 1., 0.],\n",
       "       [0., 0., 1.]])"
      ]
     },
     "execution_count": 11,
     "metadata": {},
     "output_type": "execute_result"
    }
   ],
   "source": [
    "np.eye(3,3)"
   ]
  },
  {
   "cell_type": "markdown",
   "id": "c99db6dd",
   "metadata": {},
   "source": [
    "#### 8. Create a 3x3x3 array with random values (★☆☆)"
   ]
  },
  {
   "cell_type": "code",
   "execution_count": 12,
   "id": "c7735f49",
   "metadata": {},
   "outputs": [
    {
     "data": {
      "text/plain": [
       "array([[[0.4163431 , 0.1970816 , 0.05459896],\n",
       "        [0.44509548, 0.25510425, 0.19712357],\n",
       "        [0.30880886, 0.98493524, 0.07880585]],\n",
       "\n",
       "       [[0.74495969, 0.89414606, 0.82231446],\n",
       "        [0.11454349, 0.49283682, 0.30446253],\n",
       "        [0.58134039, 0.6819604 , 0.36390845]],\n",
       "\n",
       "       [[0.24029977, 0.71434904, 0.22177235],\n",
       "        [0.02210794, 0.78854221, 0.33117381],\n",
       "        [0.54121718, 0.9520349 , 0.28937225]]])"
      ]
     },
     "execution_count": 12,
     "metadata": {},
     "output_type": "execute_result"
    }
   ],
   "source": [
    "np.random.random(((3,3,3)))"
   ]
  },
  {
   "cell_type": "markdown",
   "id": "3cd96556",
   "metadata": {},
   "source": [
    "#### 9. Create a 10x10 array with random values and find the minimum and maximum values (★☆☆)"
   ]
  },
  {
   "cell_type": "code",
   "execution_count": 13,
   "id": "3e7c43e0",
   "metadata": {},
   "outputs": [],
   "source": [
    "array=np.random.random((10,10))"
   ]
  },
  {
   "cell_type": "code",
   "execution_count": 14,
   "id": "c4d241c2",
   "metadata": {},
   "outputs": [
    {
     "data": {
      "text/plain": [
       "array([[0.61846229, 0.46710309, 0.78608147, 0.67377359, 0.24341938,\n",
       "        0.21679413, 0.42305527, 0.13185161, 0.26463285, 0.06433251],\n",
       "       [0.4489492 , 0.90227348, 0.36410055, 0.85387651, 0.35311518,\n",
       "        0.59262153, 0.39453344, 0.25874659, 0.10659874, 0.26965931],\n",
       "       [0.46163215, 0.28714151, 0.12878789, 0.29645815, 0.67025288,\n",
       "        0.3361551 , 0.1936323 , 0.28901326, 0.60826864, 0.92192921],\n",
       "       [0.52091793, 0.03737422, 0.70710251, 0.58501471, 0.81281251,\n",
       "        0.73168146, 0.62033994, 0.11990085, 0.02051379, 0.19744952],\n",
       "       [0.30591364, 0.8549447 , 0.62027352, 0.5052824 , 0.92969713,\n",
       "        0.3749675 , 0.54208427, 0.98362984, 0.13786714, 0.0637785 ],\n",
       "       [0.39705747, 0.66115831, 0.61204988, 0.45751037, 0.8674553 ,\n",
       "        0.67504253, 0.95864688, 0.78528419, 0.36113718, 0.17888471],\n",
       "       [0.60006349, 0.37334406, 0.50809667, 0.07584315, 0.35133189,\n",
       "        0.42736474, 0.57950221, 0.69883153, 0.30052376, 0.31875011],\n",
       "       [0.82090144, 0.17069371, 0.58657157, 0.49936273, 0.56084059,\n",
       "        0.18395794, 0.45351602, 0.00207319, 0.00308267, 0.77221207],\n",
       "       [0.82070461, 0.07435722, 0.45800719, 0.87752022, 0.33741185,\n",
       "        0.35603621, 0.1569038 , 0.09648501, 0.79770839, 0.97714727],\n",
       "       [0.21141581, 0.83166726, 0.06747422, 0.8002084 , 0.64628607,\n",
       "        0.54563921, 0.5725345 , 0.16607242, 0.99069922, 0.70787078]])"
      ]
     },
     "execution_count": 14,
     "metadata": {},
     "output_type": "execute_result"
    }
   ],
   "source": [
    "array"
   ]
  },
  {
   "cell_type": "code",
   "execution_count": 15,
   "id": "45585afa",
   "metadata": {},
   "outputs": [
    {
     "data": {
      "text/plain": [
       "0.0020731940476371724"
      ]
     },
     "execution_count": 15,
     "metadata": {},
     "output_type": "execute_result"
    }
   ],
   "source": [
    "np.min(array)"
   ]
  },
  {
   "cell_type": "code",
   "execution_count": 16,
   "id": "60ac4f10",
   "metadata": {},
   "outputs": [
    {
     "data": {
      "text/plain": [
       "0.9906992202197507"
      ]
     },
     "execution_count": 16,
     "metadata": {},
     "output_type": "execute_result"
    }
   ],
   "source": [
    "np.max(array)"
   ]
  },
  {
   "cell_type": "markdown",
   "id": "0ae96234",
   "metadata": {},
   "source": [
    "#### 10. Create a random vector of size 30 and find the mean value (★☆☆)"
   ]
  },
  {
   "cell_type": "code",
   "execution_count": 17,
   "id": "878227f9",
   "metadata": {},
   "outputs": [],
   "source": [
    "a=np.arange(30)"
   ]
  },
  {
   "cell_type": "code",
   "execution_count": 18,
   "id": "6f2e7ab6",
   "metadata": {},
   "outputs": [
    {
     "data": {
      "text/plain": [
       "array([ 0,  1,  2,  3,  4,  5,  6,  7,  8,  9, 10, 11, 12, 13, 14, 15, 16,\n",
       "       17, 18, 19, 20, 21, 22, 23, 24, 25, 26, 27, 28, 29])"
      ]
     },
     "execution_count": 18,
     "metadata": {},
     "output_type": "execute_result"
    }
   ],
   "source": [
    "a\n"
   ]
  },
  {
   "cell_type": "code",
   "execution_count": 19,
   "id": "45177aed",
   "metadata": {},
   "outputs": [
    {
     "data": {
      "text/plain": [
       "14.5"
      ]
     },
     "execution_count": 19,
     "metadata": {},
     "output_type": "execute_result"
    }
   ],
   "source": [
    "np.mean(a)"
   ]
  },
  {
   "cell_type": "markdown",
   "id": "16854535",
   "metadata": {},
   "source": [
    "#### 11. Create a 5x5 matrix with values 1,2,3,4 just below the diagonal (★☆☆)"
   ]
  },
  {
   "cell_type": "code",
   "execution_count": 20,
   "id": "4261868a",
   "metadata": {},
   "outputs": [
    {
     "data": {
      "text/plain": [
       "array([[1, 0, 0, 0, 0],\n",
       "       [0, 2, 0, 0, 0],\n",
       "       [0, 0, 3, 0, 0],\n",
       "       [0, 0, 0, 4, 0],\n",
       "       [0, 0, 0, 0, 5]])"
      ]
     },
     "execution_count": 20,
     "metadata": {},
     "output_type": "execute_result"
    }
   ],
   "source": [
    "np.diag([1, 2, 3, 4, 5])"
   ]
  },
  {
   "cell_type": "markdown",
   "id": "f629b67e",
   "metadata": {},
   "source": [
    "#### 12. Normalize a 5x5 random matrix (★☆☆)\n"
   ]
  },
  {
   "cell_type": "code",
   "execution_count": 21,
   "id": "0cbf7207",
   "metadata": {},
   "outputs": [
    {
     "name": "stdout",
     "output_type": "stream",
     "text": [
      "Before normalize\n",
      "[[0.71742045 0.51393697 0.08618295 0.32215538 0.1048347 ]\n",
      " [0.25999954 0.12773476 0.5895708  0.42667145 0.27294757]\n",
      " [0.6075871  0.63460002 0.22574123 0.46113452 0.96114461]\n",
      " [0.19447615 0.06825982 0.46862024 0.76815801 0.68728744]\n",
      " [0.29781425 0.04485556 0.62783426 0.95459661 0.90930989]]\n",
      "After normalize\n",
      "[[ 0.94359477  0.21658997 -1.31168747 -0.46860634 -1.24504859]\n",
      " [-0.69067643 -1.16323137  0.48681417 -0.09519185 -0.64441576]\n",
      " [ 0.55118271  0.64769434 -0.81307432  0.02793763  1.81437121]\n",
      " [-0.92477807 -1.37572314  0.05468259  1.12486964  0.83593567]\n",
      " [-0.55557221 -1.45934176  0.62352165  1.79097657  1.62917639]]\n"
     ]
    }
   ],
   "source": [
    "z=np.random.random((5,5))\n",
    "print(\"Before normalize\")\n",
    "print(z)\n",
    "d=(z - np.mean(z))/np.std(z)\n",
    "print(\"After normalize\")\n",
    "print(d)"
   ]
  },
  {
   "cell_type": "markdown",
   "id": "7d64c055",
   "metadata": {},
   "source": [
    "#### 13. How to find common values between two arrays? (★☆☆)"
   ]
  },
  {
   "cell_type": "code",
   "execution_count": 22,
   "id": "03a5995d",
   "metadata": {},
   "outputs": [
    {
     "name": "stdout",
     "output_type": "stream",
     "text": [
      "[ 0  1  2  3  4  5  6  7  8  9 10 11 12 13 14 15 16 17 18 19 20 21 22 23\n",
      " 24 25 26 27 28 29]\n",
      "[[ 0  2  4]\n",
      " [ 6  8 10]\n",
      " [12 14 16]]\n",
      "the comman values are:\n"
     ]
    },
    {
     "data": {
      "text/plain": [
       "array([ 0,  2,  4,  6,  8, 10, 12, 14, 16])"
      ]
     },
     "execution_count": 22,
     "metadata": {},
     "output_type": "execute_result"
    }
   ],
   "source": [
    "print(a)\n",
    "print(b)\n",
    "print(\"the comman values are:\")\n",
    "np.intersect1d(a,b) "
   ]
  },
  {
   "cell_type": "markdown",
   "id": "44c8773f",
   "metadata": {},
   "source": [
    "#### 14. Create a random vector of size 10 and sort it (★★☆)"
   ]
  },
  {
   "cell_type": "code",
   "execution_count": 23,
   "id": "a3c4a507",
   "metadata": {},
   "outputs": [
    {
     "name": "stdout",
     "output_type": "stream",
     "text": [
      "[0.76097612 0.12988451 0.69181056 0.91240755 0.61798149 0.87536826\n",
      " 0.28003662 0.88378432 0.00204294 0.00496825]\n",
      "That was normal vector\n",
      "[0.00204294 0.00496825 0.12988451 0.28003662 0.61798149 0.69181056\n",
      " 0.76097612 0.87536826 0.88378432 0.91240755]\n",
      "This is sorted vector\n"
     ]
    }
   ],
   "source": [
    "c=np.random.random(10)\n",
    "print(c)\n",
    "print(\"That was normal vector\")\n",
    "c.sort()\n",
    "print(c)\n",
    "print(\"This is sorted vector\")"
   ]
  },
  {
   "cell_type": "markdown",
   "id": "ce283f3a",
   "metadata": {},
   "source": [
    "\n",
    "#### 15. Create random vector of size 10 and replace the maximum value by 0 (★★☆)"
   ]
  },
  {
   "cell_type": "code",
   "execution_count": 24,
   "id": "d69d24cd",
   "metadata": {},
   "outputs": [
    {
     "name": "stdout",
     "output_type": "stream",
     "text": [
      "the random array is:\n",
      "[0.03337902 0.42313139 0.96502577 0.7883864  0.65559369 0.59890064\n",
      " 0.63134627 0.36234026 0.86503295 0.32321607]\n",
      "the max value is replaced by 0:\n",
      "[0.03337902 0.42313139 0.         0.7883864  0.65559369 0.59890064\n",
      " 0.63134627 0.36234026 0.86503295 0.32321607]\n"
     ]
    }
   ],
   "source": [
    "d=np.random.random(10)\n",
    "print('the random array is:')\n",
    "print(d)\n",
    "d[d.argmax()] = 0\n",
    "print(\"the max value is replaced by 0:\")\n",
    "print(d)"
   ]
  },
  {
   "cell_type": "code",
   "execution_count": 25,
   "id": "4616a217",
   "metadata": {},
   "outputs": [
    {
     "name": "stdout",
     "output_type": "stream",
     "text": [
      "the random array is:\n",
      "[0.31228094 0.73625482 0.928634   0.55737711 0.76462545 0.28792457\n",
      " 0.25149598 0.14585437 0.25572253 0.31081217]\n",
      "the min value is replaced by 1:\n",
      "[0.31228094 0.73625482 0.928634   0.55737711 0.76462545 0.28792457\n",
      " 0.25149598 1.         0.25572253 0.31081217]\n"
     ]
    }
   ],
   "source": [
    "d=np.random.random(10)\n",
    "print('the random array is:')\n",
    "print(d)\n",
    "d[d.argmin()] = 1\n",
    "print(\"the min value is replaced by 1:\")\n",
    "print(d)"
   ]
  },
  {
   "cell_type": "markdown",
   "id": "b6dafa6d",
   "metadata": {},
   "source": [
    "#### 16. Subtract the mean of each row of a matrix (★★☆)"
   ]
  },
  {
   "cell_type": "code",
   "execution_count": 37,
   "id": "9f51e555",
   "metadata": {},
   "outputs": [
    {
     "name": "stdout",
     "output_type": "stream",
     "text": [
      "Original matrix\n",
      "[[0.80229441 0.98695838 0.15709951 0.98365626]\n",
      " [0.31305821 0.56441553 0.88448041 0.15695239]\n",
      " [0.02655094 0.12839155 0.38905581 0.6554021 ]\n",
      " [0.2940375  0.11307377 0.36325997 0.67840569]]\n",
      "Mean of each row of the matrix\n",
      "[[0.73250214]\n",
      " [0.47972663]\n",
      " [0.2998501 ]\n",
      " [0.36219423]]\n",
      "Substraction between the original matrix and the mean\n",
      "[[ 0.06979227  0.25445624 -0.57540263  0.25115412]\n",
      " [-0.16666842  0.0846889   0.40475377 -0.32277425]\n",
      " [-0.27329916 -0.17145855  0.08920571  0.35555201]\n",
      " [-0.06815673 -0.24912046  0.00106574  0.31621146]]\n"
     ]
    }
   ],
   "source": [
    "F = np.random.random((4,4))\n",
    "print('Original matrix')\n",
    "print(F)\n",
    "print('Mean of each row of the matrix')\n",
    "x = F.mean(axis = 1, keepdims = True)\n",
    "print(x)\n",
    "print('Substraction between the original matrix and the mean')\n",
    "F_substract = F - x\n",
    "print(F_substract)"
   ]
  },
  {
   "cell_type": "markdown",
   "id": "d365b578",
   "metadata": {},
   "source": [
    "#### 17. How to get the n largest values of an array (★★★)"
   ]
  },
  {
   "cell_type": "code",
   "execution_count": 43,
   "id": "a810b86b",
   "metadata": {},
   "outputs": [
    {
     "data": {
      "text/plain": [
       "array([21, 39, 79, 13, 35,  4, 87, 40, 47, 26, 31, 37, 78, 91, 69, 83, 28,\n",
       "       81,  3, 17, 74, 63, 22, 19, 94, 38, 64, 12, 75, 44, 98, 61, 56, 84,\n",
       "        5, 15,  7, 54, 33, 70, 18, 29, 85, 52, 45, 42, 27, 57, 76, 16, 55,\n",
       "       92, 60, 50, 25, 36, 80, 58,  6, 30, 86, 90, 48, 89, 96, 20, 77, 65,\n",
       "       97,  8, 14,  9, 32,  2, 34, 73, 59, 43, 23, 51, 99, 10, 62, 49, 68,\n",
       "       93, 53,  1, 88, 67, 71, 11, 82, 41, 95,  0, 46, 72, 24, 66],\n",
       "      dtype=int64)"
      ]
     },
     "execution_count": 43,
     "metadata": {},
     "output_type": "execute_result"
    }
   ],
   "source": [
    "x = np.arange(100)\n",
    "np.random.shuffle(x)\n",
    "n=5\n",
    "np.argsort(x)"
   ]
  },
  {
   "cell_type": "markdown",
   "id": "bd9a9c3b",
   "metadata": {},
   "source": [
    "#### 18. Create a random 5*3 matrix and replace items that are larger than 4 by their squares ( Example:  6 --> 36) "
   ]
  },
  {
   "cell_type": "code",
   "execution_count": 55,
   "id": "ebb1f484",
   "metadata": {},
   "outputs": [
    {
     "name": "stdout",
     "output_type": "stream",
     "text": [
      "[[ 0  1  2]\n",
      " [ 3  4  5]\n",
      " [ 6  7  8]\n",
      " [ 9 10 11]\n",
      " [12 13 14]]\n",
      "replacing of items or squaring which are larger than 4\n"
     ]
    },
    {
     "data": {
      "text/plain": [
       "array([[  0,   1,   2],\n",
       "       [  3,   4,  25],\n",
       "       [ 36,  49,  64],\n",
       "       [ 81, 100, 121],\n",
       "       [144, 169, 196]])"
      ]
     },
     "execution_count": 55,
     "metadata": {},
     "output_type": "execute_result"
    }
   ],
   "source": [
    "x= np.arange(0,15).reshape(5,3)\n",
    "print(x)\n",
    "print(\"replacing of items or squaring which are larger than 4\")\n",
    "y=np.where(x<=4,y,x**2)\n",
    "y"
   ]
  },
  {
   "cell_type": "code",
   "execution_count": 57,
   "id": "e659e65c",
   "metadata": {},
   "outputs": [
    {
     "name": "stdout",
     "output_type": "stream",
     "text": [
      "[[ 0  1  2]\n",
      " [ 3  4  5]\n",
      " [ 6  7  8]\n",
      " [ 9 10 11]\n",
      " [12 13 14]]\n",
      "replacing of items or squaring which are larger than 4\n"
     ]
    },
    {
     "data": {
      "text/plain": [
       "array([[  0,   1,   2],\n",
       "       [  3,   4,   5],\n",
       "       [ 36,  49,  64],\n",
       "       [ 81, 100, 121],\n",
       "       [144, 169, 196]])"
      ]
     },
     "execution_count": 57,
     "metadata": {},
     "output_type": "execute_result"
    }
   ],
   "source": [
    "x= np.arange(0,15).reshape(5,3)\n",
    "print(x)\n",
    "print(\"replacing of items or squaring which are larger than 4\")\n",
    "y=np.where(x<=5,x,x**2)\n",
    "y"
   ]
  },
  {
   "cell_type": "code",
   "execution_count": null,
   "id": "cc30229d",
   "metadata": {},
   "outputs": [],
   "source": []
  }
 ],
 "metadata": {
  "kernelspec": {
   "display_name": "Python 3 (ipykernel)",
   "language": "python",
   "name": "python3"
  },
  "language_info": {
   "codemirror_mode": {
    "name": "ipython",
    "version": 3
   },
   "file_extension": ".py",
   "mimetype": "text/x-python",
   "name": "python",
   "nbconvert_exporter": "python",
   "pygments_lexer": "ipython3",
   "version": "3.9.12"
  }
 },
 "nbformat": 4,
 "nbformat_minor": 5
}
