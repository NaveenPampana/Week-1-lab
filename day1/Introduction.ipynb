{
 "cells": [
  {
   "cell_type": "markdown",
   "id": "4986926d",
   "metadata": {},
   "source": [
    "# Introduce about yourself"
   ]
  },
  {
   "cell_type": "code",
   "execution_count": 1,
   "id": "2020fb14",
   "metadata": {},
   "outputs": [
    {
     "name": "stdout",
     "output_type": "stream",
     "text": [
      "please tell me your name: Hirthik\n",
      "Hirthik\n"
     ]
    }
   ],
   "source": [
    "name=input(\"please tell me your name: \")\n",
    "print(name)"
   ]
  },
  {
   "cell_type": "markdown",
   "id": "93908521",
   "metadata": {},
   "source": [
    "### Check my pic"
   ]
  },
  {
   "cell_type": "markdown",
   "id": "3b08c9bf",
   "metadata": {},
   "source": [
    "![alt text](https://assets.gqindia.com/photos/5fdc6eb81c519f6c10ba2d2f/master/pass/Hrithik-Roshan%20(2).jpg)\n"
   ]
  },
  {
   "cell_type": "code",
   "execution_count": 12,
   "id": "916ca4ad",
   "metadata": {},
   "outputs": [
    {
     "name": "stdout",
     "output_type": "stream",
     "text": [
      "What is your best vacation place: Paris\n",
      "Paris\n"
     ]
    }
   ],
   "source": [
    "Holidays=input(\"What is your best vacation place: \")\n",
    "print(Holidays)"
   ]
  },
  {
   "cell_type": "markdown",
   "id": "7561e3a1",
   "metadata": {},
   "source": [
    "*To view of the place, click on the link*"
   ]
  },
  {
   "cell_type": "markdown",
   "id": "be3a8a47",
   "metadata": {},
   "source": [
    "[alt text](https://cdn.getyourguide.com/img/location/5ffeb39946966.jpeg/88.jpg)\n"
   ]
  },
  {
   "cell_type": "markdown",
   "id": "d19b5a66",
   "metadata": {},
   "source": [
    "###### What are activities you do at vacation"
   ]
  },
  {
   "cell_type": "markdown",
   "id": "f2686cdc",
   "metadata": {},
   "source": [
    "1. Having local food.\n",
    "2. Making new friends.\n",
    "3. relaxing."
   ]
  },
  {
   "cell_type": "markdown",
   "id": "ffc8c3ad",
   "metadata": {},
   "source": [
    "*video link*"
   ]
  },
  {
   "cell_type": "code",
   "execution_count": null,
   "id": "c29b7582",
   "metadata": {},
   "outputs": [],
   "source": []
  }
 ],
 "metadata": {
  "kernelspec": {
   "display_name": "Python 3 (ipykernel)",
   "language": "python",
   "name": "python3"
  },
  "language_info": {
   "codemirror_mode": {
    "name": "ipython",
    "version": 3
   },
   "file_extension": ".py",
   "mimetype": "text/x-python",
   "name": "python",
   "nbconvert_exporter": "python",
   "pygments_lexer": "ipython3",
   "version": "3.9.7"
  }
 },
 "nbformat": 4,
 "nbformat_minor": 5
}
